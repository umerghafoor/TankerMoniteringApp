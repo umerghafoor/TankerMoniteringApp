{
 "cells": [
  {
   "cell_type": "code",
   "execution_count": null,
   "id": "75f41442",
   "metadata": {},
   "outputs": [
    {
     "name": "stderr",
     "output_type": "stream",
     "text": [
      "/tmp/ipykernel_236293/1517736178.py:29: DeprecationWarning: Callback API version 1 is deprecated, update to latest version\n",
      "  client = mqtt.Client(client_id=\"TankerMangment\")\n"
     ]
    }
   ],
   "source": [
    "import paho.mqtt.client as mqtt\n",
    "import ssl\n",
    "import time\n",
    "import os\n",
    "\n",
    "# AWS IoT Core endpoint\n",
    "AWS_IOT_ENDPOINT = \"a3aap03cjx0go8-ats.iot.us-east-1.amazonaws.com\"\n",
    "PORT = 8883\n",
    "\n",
    "# Certificate paths (download from AWS IoT console)\n",
    "CA_PATH = \"secret/AmazonRootCA1.pem\"\n",
    "CERT_PATH = \"secret/1fccffa823e5aec071612de1eda2bffee97c13571825deacfcfb58f2705a5901-certificate.pem.crt\"\n",
    "KEY_PATH = \"secret/1fccffa823e5aec071612de1eda2bffee97c13571825deacfcfb58f2705a5901-private.pem.key\"\n",
    "\n",
    "TOPIC = \"TankerManagement/sub\"\n",
    "\n",
    "# Check if certificate files exist\n",
    "for path, name in [(CA_PATH, \"CA certificate\"), (CERT_PATH, \"Device certificate\"), (KEY_PATH, \"Private key\")]:\n",
    "    if not os.path.isfile(path):\n",
    "        raise FileNotFoundError(f\"{name} not found at path: {path}\")\n",
    "\n",
    "def on_connect(client, userdata, flags, rc):\n",
    "    print(\"Connected with result code:\", rc)\n",
    "    client.publish(TOPIC, \"Hello from Python test!\")\n",
    "\n",
    "def on_message(client, userdata, msg):\n",
    "    print(\"Message received:\", msg.payload.decode())\n",
    "\n",
    "client = mqtt.Client(client_id=\"TankerMangment\")\n",
    "client.on_connect = on_connect\n",
    "client.on_message = on_message\n",
    "\n",
    "# Configure TLS/SSL\n",
    "client.tls_set(ca_certs=CA_PATH,\n",
    "               certfile=CERT_PATH,\n",
    "               keyfile=KEY_PATH,\n",
    "               cert_reqs=ssl.CERT_REQUIRED,\n",
    "               tls_version=ssl.PROTOCOL_TLSv1_2,\n",
    "               ciphers=None)\n",
    "\n",
    "client.connect(AWS_IOT_ENDPOINT, PORT, keepalive=60)\n",
    "client.loop_start()\n",
    "\n",
    "while True:\n",
    "    time.sleep(5)\n",
    "    client.publish(TOPIC, \"ESP32 connection test\")\n"
   ]
  },
  {
   "cell_type": "code",
   "execution_count": 5,
   "id": "475f4ecd",
   "metadata": {},
   "outputs": [
    {
     "name": "stdout",
     "output_type": "stream",
     "text": [
      "Collecting paho-mqtt\n",
      "  Downloading paho_mqtt-2.1.0-py3-none-any.whl.metadata (23 kB)\n",
      "Downloading paho_mqtt-2.1.0-py3-none-any.whl (67 kB)\n",
      "Installing collected packages: paho-mqtt\n",
      "Successfully installed paho-mqtt-2.1.0\n",
      "Note: you may need to restart the kernel to use updated packages.\n"
     ]
    }
   ],
   "source": [
    "%pip install paho-mqtt"
   ]
  },
  {
   "cell_type": "code",
   "execution_count": null,
   "id": "ca492dce",
   "metadata": {},
   "outputs": [],
   "source": []
  }
 ],
 "metadata": {
  "kernelspec": {
   "display_name": "env",
   "language": "python",
   "name": "python3"
  },
  "language_info": {
   "codemirror_mode": {
    "name": "ipython",
    "version": 3
   },
   "file_extension": ".py",
   "mimetype": "text/x-python",
   "name": "python",
   "nbconvert_exporter": "python",
   "pygments_lexer": "ipython3",
   "version": "3.13.5"
  }
 },
 "nbformat": 4,
 "nbformat_minor": 5
}
